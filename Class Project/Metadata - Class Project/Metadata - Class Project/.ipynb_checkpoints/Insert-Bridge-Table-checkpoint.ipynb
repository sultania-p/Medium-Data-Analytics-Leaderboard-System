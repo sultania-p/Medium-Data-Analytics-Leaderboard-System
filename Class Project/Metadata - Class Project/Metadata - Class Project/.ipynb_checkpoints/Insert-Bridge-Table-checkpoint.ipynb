{
 "cells": [
  {
   "cell_type": "code",
   "execution_count": 1,
   "id": "739e8bc2",
   "metadata": {},
   "outputs": [],
   "source": [
    "import pyodbc\n",
    "import pandas as pd\n",
    "import numpy as np"
   ]
  },
  {
   "cell_type": "code",
   "execution_count": 2,
   "id": "47354c78",
   "metadata": {},
   "outputs": [],
   "source": [
    "conn = pyodbc.connect('Driver={SQL Server Native Client 11.0};'\n",
    "                      'Server=localhost;'\n",
    "                      'Database=Class_MetaData;'\n",
    "                      'Trusted_Connection=yes;')"
   ]
  },
  {
   "cell_type": "code",
   "execution_count": 3,
   "id": "1d784091",
   "metadata": {},
   "outputs": [],
   "source": [
    "Insert_BusinessTerm_has_Attribute = '''\n",
    "Truncate Table [dbo].[BusinessTerm_has_Attribute];\n",
    "Insert into [BusinessTerm_has_Attribute] \n",
    "select A.BusinessID, B.AttributeId from BusinessTerm A\n",
    "join Attribute B\n",
    "on A.BusinessTerms = B.AttributeName;\n",
    "'''\n",
    "\n",
    "Insert_Database_has_Attribute = '''Truncate Table [dbo].[Database_has_Attribute];\n",
    "Insert into [Database_has_Attribute] \n",
    "select A.DatabaseId, B.AttributeId  from [Database] A\n",
    "join Attribute B\n",
    "on A.DatabaseName = B.DatabaseName;'''\n",
    "\n",
    "Insert_Entitiy_has_Attribute = '''\n",
    "Truncate Table [dbo].Entitiy_has_Attribute;\n",
    "Insert into [Entitiy_has_Attribute] \n",
    "select A.EntitiyId, B.AttributeId  from [Entitiy] A\n",
    "join Attribute B\n",
    "on A.EntitiyName = B.EntityName;'''\n",
    "\n",
    "Insert_Entitiy_has_Database = '''\n",
    "Truncate Table [dbo].Entitiy_has_Database;\n",
    "Insert into Entitiy_has_Database \n",
    "select A.EntitiyId, B.DatabaseId  from [Entitiy] A\n",
    "join [Database] B\n",
    "on A.DatabaseName = B.DatabaseName;'''\n",
    "\n",
    "Insert_Entitiy_has_Relations = '''\n",
    "Truncate Table [dbo].Entitiy_has_Relations;\n",
    "Insert into Entitiy_has_Relations \n",
    "select A.EntitiyId, B.RelationID  from [Entitiy] A\n",
    "join [Relations] B\n",
    "on A.EntitiyName = B.EntityName1\n",
    "join [Entitiy] C\n",
    "on B.EntityName2 = C.EntitiyName\n",
    "where A.EntitiyName != C.EntitiyName;'''"
   ]
  },
  {
   "cell_type": "code",
   "execution_count": 4,
   "id": "5db02f0e",
   "metadata": {},
   "outputs": [],
   "source": [
    "cursor = conn.cursor()"
   ]
  },
  {
   "cell_type": "code",
   "execution_count": 5,
   "id": "8d39e76c",
   "metadata": {},
   "outputs": [
    {
     "data": {
      "text/plain": [
       "<pyodbc.Cursor at 0x1f921ec6130>"
      ]
     },
     "execution_count": 5,
     "metadata": {},
     "output_type": "execute_result"
    }
   ],
   "source": [
    "cursor.execute(Insert_BusinessTerm_has_Attribute)\n",
    "cursor.execute(Insert_Database_has_Attribute)\n",
    "cursor.execute(Insert_Entitiy_has_Attribute)\n",
    "cursor.execute(Insert_Entitiy_has_Database)\n",
    "cursor.execute(Insert_Entitiy_has_Relations)"
   ]
  },
  {
   "cell_type": "code",
   "execution_count": 6,
   "id": "bb83916a",
   "metadata": {},
   "outputs": [],
   "source": [
    "conn.commit()\n",
    "cursor.close()"
   ]
  },
  {
   "cell_type": "code",
   "execution_count": null,
   "id": "a5e1a0a5",
   "metadata": {},
   "outputs": [],
   "source": []
  }
 ],
 "metadata": {
  "kernelspec": {
   "display_name": "Python 3 (ipykernel)",
   "language": "python",
   "name": "python3"
  },
  "language_info": {
   "codemirror_mode": {
    "name": "ipython",
    "version": 3
   },
   "file_extension": ".py",
   "mimetype": "text/x-python",
   "name": "python",
   "nbconvert_exporter": "python",
   "pygments_lexer": "ipython3",
   "version": "3.10.4"
  }
 },
 "nbformat": 4,
 "nbformat_minor": 5
}
